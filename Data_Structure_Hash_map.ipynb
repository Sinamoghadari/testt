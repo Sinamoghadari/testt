{
  "nbformat": 4,
  "nbformat_minor": 0,
  "metadata": {
    "colab": {
      "provenance": [],
      "authorship_tag": "ABX9TyOzRQl6zerjG/pu6gQ8xyK2",
      "include_colab_link": true
    },
    "kernelspec": {
      "name": "python3",
      "display_name": "Python 3"
    },
    "language_info": {
      "name": "python"
    }
  },
  "cells": [
    {
      "cell_type": "markdown",
      "metadata": {
        "id": "view-in-github",
        "colab_type": "text"
      },
      "source": [
        "<a href=\"https://colab.research.google.com/github/Sinamoghadari/testt/blob/main/Data_Structure_Hash_map.ipynb\" target=\"_parent\"><img src=\"https://colab.research.google.com/assets/colab-badge.svg\" alt=\"Open In Colab\"/></a>"
      ]
    },
    {
      "cell_type": "code",
      "execution_count": 1,
      "metadata": {
        "colab": {
          "base_uri": "https://localhost:8080/"
        },
        "id": "PAW-KoOQUuZr",
        "outputId": "9318e570-53fa-49da-8d0a-4266ec4fdf92"
      },
      "outputs": [
        {
          "output_type": "execute_result",
          "data": {
            "text/plain": [
              "9"
            ]
          },
          "metadata": {},
          "execution_count": 1
        }
      ],
      "source": [
        "def get_hash(key) :\n",
        "  h = 0\n",
        "  for char in key :\n",
        "    h += ord(char)\n",
        "  return h%100\n",
        "\n",
        "get_hash('march 6')    "
      ]
    },
    {
      "cell_type": "code",
      "source": [
        "class HashTable :\n",
        "  def __init__(self) :\n",
        "    self.MAX = 100\n",
        "    self.arr = [[] for i in range(self.MAX)]\n",
        "    \n",
        "  def get_hash(self, key) :\n",
        "    h = 0\n",
        "    for char in key :\n",
        "      h += ord(char)\n",
        "    return h % self.MAX\n",
        "\n",
        "  def __setitem__(self , key , val) :\n",
        "    h = get_hash(key)\n",
        "    found = False\n",
        "    for idx , element in enumerate(self.arr[h]) :\n",
        "      if len(element) == 2 and element[0] == key :\n",
        "        self.arr[h][idx] = (key,val)\n",
        "        found = True\n",
        "        break\n",
        "    if not found :\n",
        "        self.arr[h].append((key , val)) \n",
        "\n",
        "  def __getitem__(self , key) :\n",
        "    h = get_hash(key)\n",
        "    return self.arr[h]\n",
        "\n",
        "  def __delitem__(self , key) :\n",
        "    h = get_hash(key)\n",
        "    self.arr[h] = None  \n",
        "\n"
      ],
      "metadata": {
        "id": "FpLRuil6WTVn"
      },
      "execution_count": 23,
      "outputs": []
    },
    {
      "cell_type": "code",
      "source": [
        "t = HashTable()\n",
        "\n",
        "t['march 6'] =130\n",
        "t['march 17'] = 459"
      ],
      "metadata": {
        "id": "nv-vCOtjaW33"
      },
      "execution_count": 24,
      "outputs": []
    },
    {
      "cell_type": "code",
      "source": [
        "t['march 17']"
      ],
      "metadata": {
        "colab": {
          "base_uri": "https://localhost:8080/"
        },
        "id": "-xvuYN-0EQU8",
        "outputId": "0f368524-1593-45ee-ba2f-1e3018d37453"
      },
      "execution_count": 27,
      "outputs": [
        {
          "output_type": "execute_result",
          "data": {
            "text/plain": [
              "[('march 17', 459)]"
            ]
          },
          "metadata": {},
          "execution_count": 27
        }
      ]
    },
    {
      "cell_type": "code",
      "source": [
        "t.arr"
      ],
      "metadata": {
        "id": "O8YDxX3_EbXC"
      },
      "execution_count": null,
      "outputs": []
    }
  ]
}